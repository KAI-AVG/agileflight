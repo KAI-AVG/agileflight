{
 "cells": [
  {
   "cell_type": "code",
   "execution_count": 23,
   "metadata": {},
   "outputs": [],
   "source": [
    "from base_model import *\n",
    "import policy_model \n",
    "from math import sqrt\n",
    "import os\n",
    "from os.path import join as opj\n",
    "from omegaconf import OmegaConf\n",
    "from omegaconf import DictConfig\n",
    "from hydra import initialize, compose\n",
    "from hydra.utils import instantiate  # 添加这行\n",
    "import time"
   ]
  },
  {
   "cell_type": "code",
   "execution_count": 24,
   "metadata": {},
   "outputs": [],
   "source": [
    "base_path = os.environ.get(\"project_path\")"
   ]
  },
  {
   "cell_type": "code",
   "execution_count": 25,
   "metadata": {},
   "outputs": [],
   "source": [
    "with initialize(config_path=\"../configs\", version_base=\"1.3.2\"):\n",
    "        #overrides = [\"dataset=\" + ] if dataset_name else []\n",
    "        overrides = [\"model=FusionCross\",\"input_mode=fusion\"]\n",
    "        cfg = compose(config_name=\"train\",overrides=overrides)\n",
    "model = instantiate(cfg.model)"
   ]
  },
  {
   "cell_type": "code",
   "execution_count": 26,
   "metadata": {},
   "outputs": [
    {
     "name": "stdout",
     "output_type": "stream",
     "text": [
      "146756\n"
     ]
    }
   ],
   "source": [
    "print(sum([parameter.numel() for parameter in model.parameters()]))"
   ]
  },
  {
   "cell_type": "code",
   "execution_count": 10,
   "metadata": {},
   "outputs": [
    {
     "data": {
      "text/plain": [
       "'easy_dynamic_5_all'"
      ]
     },
     "execution_count": 10,
     "metadata": {},
     "output_type": "execute_result"
    }
   ],
   "source": [
    "cfg.dataset.dataset_name"
   ]
  },
  {
   "cell_type": "code",
   "execution_count": 27,
   "metadata": {},
   "outputs": [
    {
     "name": "stdout",
     "output_type": "stream",
     "text": [
      "0.02497267723083496\n"
     ]
    }
   ],
   "source": [
    "dvs = torch.ones((4,2,60,90))\n",
    "depth = torch.ones((4,1,60,90))\n",
    "state = torch.rand((4,10))\n",
    "extras = None\n",
    "start_time = time.time()\n",
    "model(dvs,depth,state,extras)\n",
    "end_time = time.time()\n",
    "print(end_time-start_time)"
   ]
  }
 ],
 "metadata": {
  "kernelspec": {
   "display_name": "fly_denoising",
   "language": "python",
   "name": "python3"
  },
  "language_info": {
   "codemirror_mode": {
    "name": "ipython",
    "version": 3
   },
   "file_extension": ".py",
   "mimetype": "text/x-python",
   "name": "python",
   "nbconvert_exporter": "python",
   "pygments_lexer": "ipython3",
   "version": "3.7.12"
  }
 },
 "nbformat": 4,
 "nbformat_minor": 2
}
